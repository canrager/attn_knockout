{
 "cells": [
  {
   "cell_type": "code",
   "execution_count": 2,
   "metadata": {},
   "outputs": [
    {
     "name": "stderr",
     "output_type": "stream",
     "text": [
      "/share/u/can/miniconda3/envs/attn_knockout_env/lib/python3.11/site-packages/tqdm/auto.py:21: TqdmWarning: IProgress not found. Please update jupyter and ipywidgets. See https://ipywidgets.readthedocs.io/en/stable/user_install.html\n",
      "  from .autonotebook import tqdm as notebook_tqdm\n"
     ]
    }
   ],
   "source": [
    "import types\n",
    "import torch\n",
    "from attention_utils import AttentionPatcher\n",
    "from transformers import AutoModelForCausalLM, AutoTokenizer"
   ]
  },
  {
   "cell_type": "code",
   "execution_count": 3,
   "metadata": {},
   "outputs": [],
   "source": [
    "model_id = 'meta-llama/Llama-3.2-1B'\n",
    "model = AutoModelForCausalLM.from_pretrained(\n",
    "    model_id,\n",
    "    device_map='cuda:0',\n",
    "    torch_dtype=torch.bfloat16,\n",
    "    cache_dir=\"/share/u/can/models\",\n",
    ")\n",
    "tokenizer = AutoTokenizer.from_pretrained(model_id)"
   ]
  },
  {
   "cell_type": "code",
   "execution_count": 4,
   "metadata": {},
   "outputs": [],
   "source": [
    "prompt = \"Hello world,\"\n",
    "input_ids = tokenizer.encode(prompt, return_tensors='pt').to(model.device)\n",
    "layers = [11] # index of attention layer/block to cache attention patterns from\n",
    "\n",
    "save_attn_for = [0] # save attention for head_idx\n",
    "cut_edges = None\n",
    "# cut_edges = [0, AttentionEdge(q_idx=5, k_idx=4)]    # [head_idx, [AttentionEdge(q_idx, k_idx)]] to cut off attention enge q_idx --> k_idx via a specific head"
   ]
  },
  {
   "cell_type": "code",
   "execution_count": 6,
   "metadata": {},
   "outputs": [],
   "source": [
    "# Initialize storage for attention weights and contributions\n",
    "attn_weights = {} # attention weights: layer_idx --> head_idx --> attn_matrix\n",
    "attn_contributions = {} # attention contributions ie. multiplication of head with value matrix: layer_idx --> head_idx --> attn_matrix\n",
    "\n",
    "# Replace forward method of attention blocks with the patched version\n",
    "for layer in layers:\n",
    "    attn_weights[layer] = {}\n",
    "    attn_contributions[layer] = {}\n",
    "    attn_block_name = f\"layers.{layer}.self_attn\"\n",
    "    attn_block = model.model.layers[layer].self_attn\n",
    "    attn_block.forward = types.MethodType(\n",
    "        AttentionPatcher(\n",
    "            block_name=attn_block_name,\n",
    "            cut_attn_edges=cut_edges,\n",
    "            save_attn_for=save_attn_for,\n",
    "            attn_matrices=attn_weights[layer],\n",
    "            attn_contributions=attn_contributions[layer],\n",
    "        ),\n",
    "        attn_block\n",
    "    )\n",
    "\n",
    "# # Run the model\n",
    "# with model.trace(prompt):\n",
    "#     out = model.lm_head.output.save()\n",
    "out = model(input_ids)"
   ]
  },
  {
   "cell_type": "code",
   "execution_count": 7,
   "metadata": {},
   "outputs": [
    {
     "data": {
      "text/plain": [
       "{11: {0: tensor([[[1.0000, 0.0000, 0.0000, 0.0000],\n",
       "           [0.9844, 0.0167, 0.0000, 0.0000],\n",
       "           [0.9727, 0.0053, 0.0227, 0.0000],\n",
       "           [0.9609, 0.0119, 0.0178, 0.0086]]], device='cuda:0',\n",
       "         dtype=torch.bfloat16, grad_fn=<CloneBackward0>)}}"
      ]
     },
     "execution_count": 7,
     "metadata": {},
     "output_type": "execute_result"
    }
   ],
   "source": [
    "attn_weights"
   ]
  }
 ],
 "metadata": {
  "kernelspec": {
   "display_name": "attn_knockout_env",
   "language": "python",
   "name": "python3"
  },
  "language_info": {
   "codemirror_mode": {
    "name": "ipython",
    "version": 3
   },
   "file_extension": ".py",
   "mimetype": "text/x-python",
   "name": "python",
   "nbconvert_exporter": "python",
   "pygments_lexer": "ipython3",
   "version": "3.11.9"
  }
 },
 "nbformat": 4,
 "nbformat_minor": 2
}
